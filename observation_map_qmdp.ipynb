{
 "cells": [
  {
   "cell_type": "code",
   "execution_count": null,
   "metadata": {},
   "outputs": [],
   "source": [
    "import sys\n",
    "sys.path.append('./scripts/')\n",
    "from dp_policy_agent import *\n",
    "from dynamic_programming import *\n",
    "from hazard_mcl import *"
   ]
  },
  {
   "cell_type": "code",
   "execution_count": null,
   "metadata": {},
   "outputs": [],
   "source": [
    "class HazardQmdpAgent(DpPolicyAgent): ###qmdp3\n",
    "    def __init__(self, time_interval, estimator, goal, puddles, sampling_num=10, widths=np.array([0.2, 0.2, math.pi/18]).T, \\\n",
    "                 puddle_coef=1000000.0, lowerleft=np.array([-4, -4]).T, upperright=np.array([4, 4]).T): \n",
    "        super().__init__(time_interval, estimator, goal, puddle_coef, widths, lowerleft, upperright)\n",
    "        \n",
    "        self.dp = DynamicProgramming(widths, goal, puddles, time_interval, sampling_num, puddle_coef)\n",
    "        self.dp.value_function = self.init_value()\n",
    "        self.evaluations = np.array([0.0, 0.0, 0.0])\n",
    "        self.current_value = 0.0\n",
    "        \n",
    "        self.history = [(0, 0)] #行動の履歴を記録\n",
    "        self.hazard = {}\n",
    "        \n",
    "    def init_value(self):\n",
    "        tmp = np.zeros(self.dp.index_nums)\n",
    "        for line in open(\"./data/dp_value.txt\", \"r\"):\n",
    "            d = line.split()\n",
    "            tmp[int(d[0]), int(d[1]), int(d[2])] = float(d[3])\n",
    "            \n",
    "        return tmp\n",
    "    \n",
    "    def action_value(self, action, index, particle, out_penalty=True):\n",
    "        value = 0.0\n",
    "        hazard = 0.0\n",
    "        for delta, prob in self.dp.state_transition_probs[(action, index[2])]:\n",
    "            after, out_reward = self.dp.out_correction(np.array(index).T + delta)\n",
    "            after = tuple(after)\n",
    "                \n",
    "            reward = - self.dp.time_interval * self.dp.depths[(after[0], after[1])] * self.dp.puddle_coef - self.dp.time_interval + out_reward*out_penalty\n",
    "            value += (self.dp.value_function[after] + reward) * prob * particle.hazard_weight\n",
    "            \n",
    "            hazard += self.dp.time_interval * self.dp.depths[(after[0], after[1])] * self.dp.puddle_coef * prob\n",
    "        \n",
    "        return value, hazard\n",
    "    \n",
    "    def evaluation(self, action, indexes, particles):\n",
    "        evaluations = [self.action_value(action, indexes[i], particles[i], out_penalty=False) for i in range(len(indexes))]\n",
    "        return sum([e[0] for e in evaluations])/len(indexes), [e[1]for e in evaluations]\n",
    "        \n",
    "    def policy(self, pose, goal=None): #追加（引数poseは使わない）\n",
    "        indexes = [self.to_index(p.pose, self.pose_min, self.index_nums, self.widths) for p in self.estimator.particles]\n",
    "        self.current_value = sum([self.dp.value_function[i] for i in indexes])/len(indexes)\n",
    "        es = [self.evaluation(a, indexes, self.estimator.particles) for a in self.dp.actions]\n",
    "        self.evaluations = [e[0] for e in es]\n",
    "        hazard_weights = [e[1] for e in es]\n",
    "        self.history.append(self.dp.actions[np.argmax(self.evaluations)]) #ここから変更。historyにQ-MDPで選んだ行動を追記\n",
    "        \n",
    "        for i, p in enumerate(self.estimator.particles):\n",
    "            max_hazard_weight = max([e[i] for e in hazard_weights])\n",
    "            p.hazard_weight = (p.hazard_weight - 1.0)*0.5 + 1.0 + max_hazard_weight\n",
    "        \n",
    "     #   if self.history[-1][0] + self.history[-2][0] == 0.0 and self.history[-1][1] + self.history[-2][1] == 0.0: #2回の行動で停止していたら前進\n",
    "     #       return (1.0, 0.0)\n",
    "        \n",
    "        return self.history[-1]\n",
    "    \n",
    "    def draw(self, ax, elems):\n",
    "        super().draw(ax, elems)\n",
    "        elems.append(ax.text(-4.5, -4.6, \"{:.3} => [{:.3}, {:.3}, {:.3}]\".format(self.current_value, *self.evaluations), fontsize=8))"
   ]
  },
  {
   "cell_type": "code",
   "execution_count": null,
   "metadata": {},
   "outputs": [],
   "source": [
    "def trial(animation):\n",
    "    time_interval = 0.1\n",
    "    world = PuddleWorld(300, time_interval, debug=not animation) \n",
    "\n",
    "    ##ランドマークの追加（意地悪な位置に）##\n",
    "    m = Map()\n",
    "    for ln in [(1,4), (4,1), (-4,-4)]: m.append_landmark(Landmark(*ln))\n",
    "    world.append(m) \n",
    "    \n",
    "    ##ゴール・水たまりの追加（これは特に変更なし）##\n",
    "    goal = Goal(-3,-3)\n",
    "    puddles = [Puddle((-2, 0), (0, 2), 0.1), Puddle((-0.5, -2), (2.5, 1), 0.1)] \n",
    "    world.append(goal)\n",
    "    world.append(puddles[0]) \n",
    "    world.append(puddles[1])\n",
    "    \n",
    "    ##ロボットを作る##\n",
    "    init_pose = np.array([2.5, 2.5, 0]).T\n",
    "    pf = HazardMcl(m, init_pose, 100)\n",
    "    a = HazardQmdpAgent(time_interval, pf, goal, puddles,puddle_coef=1000000.0) \n",
    "    r = Robot(init_pose, sensor=Camera(m), agent=a, color=\"red\")\n",
    "\n",
    "    world.append(r)\n",
    "    world.draw()\n",
    "    \n",
    "    return a"
   ]
  },
  {
   "cell_type": "code",
   "execution_count": null,
   "metadata": {},
   "outputs": [],
   "source": [
    "trial(True)"
   ]
  },
  {
   "cell_type": "code",
   "execution_count": null,
   "metadata": {},
   "outputs": [],
   "source": []
  }
 ],
 "metadata": {
  "kernelspec": {
   "display_name": "Python 3",
   "language": "python",
   "name": "python3"
  },
  "language_info": {
   "codemirror_mode": {
    "name": "ipython",
    "version": 3
   },
   "file_extension": ".py",
   "mimetype": "text/x-python",
   "name": "python",
   "nbconvert_exporter": "python",
   "pygments_lexer": "ipython3",
   "version": "3.7.5"
  }
 },
 "nbformat": 4,
 "nbformat_minor": 2
}
